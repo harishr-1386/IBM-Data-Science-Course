{
 "cells": [
  {
   "cell_type": "markdown",
   "id": "006c9444-1782-4142-aea8-7a12be0d1f2e",
   "metadata": {},
   "source": [
    "# Data Science Tools and Ecosystem"
   ]
  },
  {
   "cell_type": "markdown",
   "id": "87609608-3ea4-4ad4-b2be-cb5f7e3c3079",
   "metadata": {},
   "source": [
    "## Author \n",
    "Harish Ramesh Babu\n"
   ]
  },
  {
   "cell_type": "markdown",
   "id": "94ea0eb8-68cf-4c83-ae9d-ec7db89806bb",
   "metadata": {},
   "source": [
    "In this notebook, Data Science Tools and Ecosystem are summarized."
   ]
  },
  {
   "cell_type": "markdown",
   "id": "4b60b485-072e-41b1-b317-04159be723aa",
   "metadata": {},
   "source": [
    "***Objectives:***\n",
    " \n",
    "- Data Science Tools\n",
    "- Data Science Languages\n",
    "- Data Science Libraries for each Language\n",
    "- Jupyter Notebook usage and Formatting\n",
    "- Arithmetic Operations in Jupyter Notebook \n"
   ]
  },
  {
   "cell_type": "markdown",
   "id": "3f0db4fa-1e30-4581-a7b5-d78abcc37dae",
   "metadata": {},
   "source": [
    "Some of the popular languages that Data Scientists use are:\n",
    "\n",
    "1. Python\n",
    "2. R\n",
    "3. Julia\n",
    "4. Java Script\n"
   ]
  },
  {
   "cell_type": "markdown",
   "id": "d07e9c4d-e333-4861-b8c5-19925facf5c0",
   "metadata": {},
   "source": [
    "Some of the commonly used libraries used by Data Scientists include:\n",
    "\n",
    "1. Numpy\n",
    "2. Pandas\n",
    "3. Seaborn\n",
    "4. Scipy\n",
    "5. Keras\n",
    "6. Tensorflow\n",
    "\n"
   ]
  },
  {
   "cell_type": "markdown",
   "id": "0b4b283a-d01e-4110-b51b-441ac497323d",
   "metadata": {},
   "source": [
    "|Data Science Tools|\n",
    "|------------------|\n",
    "|Visual Studio Code|\n",
    "|Anaconda          |\n",
    "|Spyder            |"
   ]
  },
  {
   "cell_type": "markdown",
   "id": "a1a34524-ca5e-4f75-8111-ca086ef90d6d",
   "metadata": {},
   "source": [
    "### Below are a few examples of evaluating arithmetics expressions in Python"
   ]
  },
  {
   "cell_type": "code",
   "execution_count": 2,
   "id": "951d6443-11a6-47af-8e2e-24ab12301e52",
   "metadata": {},
   "outputs": [
    {
     "data": {
      "text/plain": [
       "17"
      ]
     },
     "execution_count": 2,
     "metadata": {},
     "output_type": "execute_result"
    }
   ],
   "source": [
    "# This a simple arithmetic expression to multiply then add integers.\n",
    "\n",
    "(3*4)+5"
   ]
  },
  {
   "cell_type": "code",
   "execution_count": 8,
   "id": "c8b270ba-ce27-4823-91d1-083af48ee9ab",
   "metadata": {},
   "outputs": [
    {
     "name": "stdout",
     "output_type": "stream",
     "text": [
      "3.33 Hours\n"
     ]
    }
   ],
   "source": [
    "# This will convert 200 minutes to hours by dividing by 60\n",
    "\n",
    "minutes = 200\n",
    "\n",
    "hours = round(minutes/60,2)\n",
    "\n",
    "print(str(hours) +  \" Hours\")\n"
   ]
  },
  {
   "cell_type": "code",
   "execution_count": null,
   "id": "08639868-dad2-4881-a8e8-a01f1442311c",
   "metadata": {},
   "outputs": [],
   "source": []
  }
 ],
 "metadata": {
  "kernelspec": {
   "display_name": "Python 3 (ipykernel)",
   "language": "python",
   "name": "python3"
  },
  "language_info": {
   "codemirror_mode": {
    "name": "ipython",
    "version": 3
   },
   "file_extension": ".py",
   "mimetype": "text/x-python",
   "name": "python",
   "nbconvert_exporter": "python",
   "pygments_lexer": "ipython3",
   "version": "3.12.8"
  }
 },
 "nbformat": 4,
 "nbformat_minor": 5
}
